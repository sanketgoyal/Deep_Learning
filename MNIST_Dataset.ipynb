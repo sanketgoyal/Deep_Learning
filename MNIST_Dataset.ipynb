{
  "nbformat": 4,
  "nbformat_minor": 0,
  "metadata": {
    "kernelspec": {
      "display_name": "Python 3",
      "language": "python",
      "name": "python3"
    },
    "language_info": {
      "codemirror_mode": {
        "name": "ipython",
        "version": 3
      },
      "file_extension": ".py",
      "mimetype": "text/x-python",
      "name": "python",
      "nbconvert_exporter": "python",
      "pygments_lexer": "ipython3",
      "version": "3.6.8"
    },
    "colab": {
      "name": "MNIST Dataset.ipynb",
      "version": "0.3.2",
      "provenance": []
    }
  },
  "cells": [
    {
      "cell_type": "code",
      "metadata": {
        "id": "zkqieY1l7YzR",
        "colab_type": "code",
        "colab": {}
      },
      "source": [
        "import numpy as np\n",
        "import matplotlib.pyplot as plt\n",
        "import keras\n",
        "from keras.datasets import mnist #To get access to MNIST Dataset of keras\n",
        "from keras.models import Sequential #Allowing us to define our Neural model\n",
        "from keras.layers import Dense #Connecting all the layers with preceding layers to develop fully connected network\n",
        "from keras.optimizers import Adam #Dealing with multi class dataset\n",
        "from keras.utils.np_utils import to_categorical #Allows taking labels as inputs and reformated them into One Hot Encoded form\n",
        "import random\n"
      ],
      "execution_count": 0,
      "outputs": []
    },
    {
      "cell_type": "code",
      "metadata": {
        "id": "EvE-7Qc97YzW",
        "colab_type": "code",
        "colab": {}
      },
      "source": [
        "np.random.seed(0)"
      ],
      "execution_count": 0,
      "outputs": []
    },
    {
      "cell_type": "code",
      "metadata": {
        "id": "IgBn9lji7YzY",
        "colab_type": "code",
        "colab": {}
      },
      "source": [
        "(X_train, y_train),(X_test, y_test) = mnist.load_data() #Loading data from mnist dataset in form of tuple, thus have(), ()\n"
      ],
      "execution_count": 0,
      "outputs": []
    },
    {
      "cell_type": "code",
      "metadata": {
        "id": "yWxsa6vA7Yza",
        "colab_type": "code",
        "colab": {
          "base_uri": "https://localhost:8080/",
          "height": 51
        },
        "outputId": "b4c26933-3cf1-4f79-caa6-81655031d7d9"
      },
      "source": [
        "print(X_train.shape)\n",
        "print(X_test.shape)"
      ],
      "execution_count": 4,
      "outputs": [
        {
          "output_type": "stream",
          "text": [
            "(60000, 28, 28)\n",
            "(10000, 28, 28)\n"
          ],
          "name": "stdout"
        }
      ]
    },
    {
      "cell_type": "code",
      "metadata": {
        "id": "Eal2P19F7Yzb",
        "colab_type": "code",
        "colab": {}
      },
      "source": [
        "#To verify the data is consisitent or each image has labels\n",
        "assert(X_train.shape[0] == y_train.shape[0]), \"The number if images is not equal to number of labels.\"\n",
        "assert(X_test.shape[0] == y_test.shape[0]), \"The number if images is not equal to number of labels.\"\n",
        "\n",
        "#To verify the image size 28*28 pixels\n",
        "assert(X_train.shape[1:] == (28,28)), \"The Dimensions of images are not 28*28\"\n",
        "assert(X_test.shape[1:] == (28,28)), \"The Dimensions of images are not 28*28\""
      ],
      "execution_count": 0,
      "outputs": []
    },
    {
      "cell_type": "code",
      "metadata": {
        "id": "1cQQuhme7Yzd",
        "colab_type": "code",
        "colab": {
          "base_uri": "https://localhost:8080/",
          "height": 735
        },
        "outputId": "b57c049b-2e2c-4a6f-8283-637fd6ee098c"
      },
      "source": [
        "#Plot and analyze the data to visualize each class if images present between 0 to 9\n",
        "num_of_samples = [] #Amount of images in each of the ten categories\n",
        "cols = 5 \n",
        "num_classes = 10\n",
        "\n",
        "fig, axs = plt.subplots(nrows = num_classes, ncols = cols, figsize = (5,10))\n",
        "fig.tight_layout()\n",
        "\n",
        "#Create a nested for loop\n",
        "\n",
        "for i in range(cols):\n",
        "    for j in range(num_classes):\n",
        "        x_selected = X_train[y_train == j] #Take all data stored in X_train but keep the data with labels with j only\n",
        "        axs[j][i].imshow(x_selected[random.randint(0, len(x_selected - 1)), :, :], cmap = plt.get_cmap(\"gray\"))\n",
        "        \n",
        "        axs[j][i].axis(\"off\") #To not display axis\n",
        "        \n",
        "        if i == 2:\n",
        "            axs[j][i].set_title(str(j))\n",
        "            \n",
        "            num_of_samples.append(len(x_selected))"
      ],
      "execution_count": 6,
      "outputs": [
        {
          "output_type": "display_data",
          "data": {
            "image/png": "[encoded data removed]",
            "text/plain": [
              "<Figure size 360x720 with 50 Axes>"
            ]
          },
          "metadata": {
            "tags": []
          }
        }
      ]
    },
    {
      "cell_type": "code",
      "metadata": {
        "id": "b8ahBPIJ7Yzf",
        "colab_type": "code",
        "colab": {
          "base_uri": "https://localhost:8080/",
          "height": 329
        },
        "outputId": "c89bbf80-f8cc-427d-cd36-6682ad96beb2"
      },
      "source": [
        "\n",
        "print(num_of_samples)\n",
        "plt.figure(figsize=(12, 4))\n",
        "plt.bar(range(0, num_classes), num_of_samples)\n",
        "plt.title(\"Distribution of the training dataset\")\n",
        "plt.xlabel(\"Class number\")\n",
        "plt.ylabel(\"Number of images\")"
      ],
      "execution_count": 7,
      "outputs": [
        {
          "output_type": "stream",
          "text": [
            "[5923, 6742, 5958, 6131, 5842, 5421, 5918, 6265, 5851, 5949]\n"
          ],
          "name": "stdout"
        },
        {
          "output_type": "execute_result",
          "data": {
            "text/plain": [
              "Text(0, 0.5, 'Number of images')"
            ]
          },
          "metadata": {
            "tags": []
          },
          "execution_count": 7
        },
        {
          "output_type": "display_data",
          "data": {
            "image/png": "[encoded data removed]",
            "text/plain": [
              "<Figure size 864x288 with 1 Axes>"
            ]
          },
          "metadata": {
            "tags": []
          }
        }
      ]
    },
    {
      "cell_type": "code",
      "metadata": {
        "id": "MhXaheCm7Yzg",
        "colab_type": "code",
        "colab": {}
      },
      "source": [
        "#Perform one hot encoding\n",
        "\n",
        "y_train = to_categorical(y_train, 10) #Labelled data that needs to be encoded, total number of classes\n",
        "y_test = to_categorical(y_test, 10)"
      ],
      "execution_count": 0,
      "outputs": []
    },
    {
      "cell_type": "code",
      "metadata": {
        "id": "TxvMVM957Yzi",
        "colab_type": "code",
        "colab": {}
      },
      "source": [
        "#Normalization (Choose to divde by 255 because we want the value between 0-1 and the max pixel value is 255)\n",
        "#Scales data to uniform range and decreases the variance of the data\n",
        "\n",
        "X_train = X_train/255\n",
        "X_test = X_test/255"
      ],
      "execution_count": 0,
      "outputs": []
    },
    {
      "cell_type": "code",
      "metadata": {
        "id": "tCBQbrZn7Yzl",
        "colab_type": "code",
        "colab": {}
      },
      "source": [
        "#Flatten the array to make images 1D for feedforward process\n",
        "num_pixels = 784\n",
        "X_train = X_train.reshape(X_train.shape[0], num_pixels)\n",
        "X_test = X_test.reshape(X_test.shape[0], num_pixels)"
      ],
      "execution_count": 0,
      "outputs": []
    },
    {
      "cell_type": "code",
      "metadata": {
        "id": "jCXbQH1v7Yzn",
        "colab_type": "code",
        "colab": {
          "base_uri": "https://localhost:8080/",
          "height": 54
        },
        "outputId": "830edd85-aa87-49e3-a2ce-47c5c509453b"
      },
      "source": [
        "'''\n",
        "def create_model():\n",
        "    model = Sequential() #To define our model\n",
        "    model.add(Dense(10, input_dim = num_pixels, activation=\"relu\")) #To add hidden layers with as many nodes in each layer\n",
        "                                        #One hidden layer with 10 nodes, preceding with input layer with input = pixels\n",
        "    model.add(Dense(30, activation='relu'))\n",
        "    model.add(Dense(10, activation = \"relu\"))\n",
        "    model.add(Dense(num_classes, activation=\"softmax\")) #Output layer, softmax converts everything to probabilities\n",
        "    model.compile(Adam(lr = 0.01), loss = \"categorical_crossentropy\", metrics = [\"accuracy\"]) \n",
        "    \n",
        "    return model\n",
        "\n",
        "#Increasing the number of nodes in a layer, will train the model pretty well. The training set will be memorized rather than learn\n",
        "'''"
      ],
      "execution_count": 11,
      "outputs": [
        {
          "output_type": "execute_result",
          "data": {
            "text/plain": [
              "'\\ndef create_model():\\n    model = Sequential() #To define our model\\n    model.add(Dense(10, input_dim = num_pixels, activation=\"relu\")) #To add hidden layers with as many nodes in each layer\\n                                        #One hidden layer with 10 nodes, preceding with input layer with input = pixels\\n    model.add(Dense(30, activation=\\'relu\\'))\\n    model.add(Dense(10, activation = \"relu\"))\\n    model.add(Dense(num_classes, activation=\"softmax\")) #Output layer, softmax converts everything to probabilities\\n    model.compile(Adam(lr = 0.01), loss = \"categorical_crossentropy\", metrics = [\"accuracy\"]) \\n    \\n    return model\\n\\n#Increasing the number of nodes in a layer, will train the model pretty well. The training set will be memorized rather than learn\\n'"
            ]
          },
          "metadata": {
            "tags": []
          },
          "execution_count": 11
        }
      ]
    },
    {
      "cell_type": "code",
      "metadata": {
        "id": "69ivgyEe7Yzr",
        "colab_type": "code",
        "colab": {}
      },
      "source": [
        "def create_model():\n",
        "    model = Sequential()\n",
        "    model.add(Dense(10, input_dim=num_pixels, activation='relu'))\n",
        "    model.add(Dense(30, activation='relu'))\n",
        "    model.add(Dense(10, activation='relu'))\n",
        "    model.add(Dense(num_classes, activation='softmax'))\n",
        "    model.compile(Adam(lr=0.01), loss='categorical_crossentropy', metrics=['accuracy'])\n",
        "    return model"
      ],
      "execution_count": 0,
      "outputs": []
    },
    {
      "cell_type": "code",
      "metadata": {
        "id": "M1-5SGLH7Yzs",
        "colab_type": "code",
        "colab": {
          "base_uri": "https://localhost:8080/",
          "height": 496
        },
        "outputId": "5a811b1d-563b-44b4-a143-a9cabb41aa02"
      },
      "source": [
        "model = create_model()\n",
        "print(model.summary())"
      ],
      "execution_count": 13,
      "outputs": [
        {
          "output_type": "stream",
          "text": [
            "WARNING: Logging before flag parsing goes to stderr.\n",
            "W0718 21:12:40.836444 140337676744576 deprecation_wrapper.py:119] From /usr/local/lib/python3.6/dist-packages/keras/backend/tensorflow_backend.py:74: The name tf.get_default_graph is deprecated. Please use tf.compat.v1.get_default_graph instead.\n",
            "\n",
            "W0718 21:12:40.875955 140337676744576 deprecation_wrapper.py:119] From /usr/local/lib/python3.6/dist-packages/keras/backend/tensorflow_backend.py:517: The name tf.placeholder is deprecated. Please use tf.compat.v1.placeholder instead.\n",
            "\n",
            "W0718 21:12:40.884946 140337676744576 deprecation_wrapper.py:119] From /usr/local/lib/python3.6/dist-packages/keras/backend/tensorflow_backend.py:4138: The name tf.random_uniform is deprecated. Please use tf.random.uniform instead.\n",
            "\n",
            "W0718 21:12:40.964181 140337676744576 deprecation_wrapper.py:119] From /usr/local/lib/python3.6/dist-packages/keras/optimizers.py:790: The name tf.train.Optimizer is deprecated. Please use tf.compat.v1.train.Optimizer instead.\n",
            "\n",
            "W0718 21:12:40.979334 140337676744576 deprecation_wrapper.py:119] From /usr/local/lib/python3.6/dist-packages/keras/backend/tensorflow_backend.py:3295: The name tf.log is deprecated. Please use tf.math.log instead.\n",
            "\n"
          ],
          "name": "stderr"
        },
        {
          "output_type": "stream",
          "text": [
            "_________________________________________________________________\n",
            "Layer (type)                 Output Shape              Param #   \n",
            "=================================================================\n",
            "dense_1 (Dense)              (None, 10)                7850      \n",
            "_________________________________________________________________\n",
            "dense_2 (Dense)              (None, 30)                330       \n",
            "_________________________________________________________________\n",
            "dense_3 (Dense)              (None, 10)                310       \n",
            "_________________________________________________________________\n",
            "dense_4 (Dense)              (None, 10)                110       \n",
            "=================================================================\n",
            "Total params: 8,600\n",
            "Trainable params: 8,600\n",
            "Non-trainable params: 0\n",
            "_________________________________________________________________\n",
            "None\n"
          ],
          "name": "stdout"
        }
      ]
    },
    {
      "cell_type": "code",
      "metadata": {
        "id": "AzOn3-1Q7Yzu",
        "colab_type": "code",
        "colab": {
          "base_uri": "https://localhost:8080/",
          "height": 479
        },
        "outputId": "84bc9184-ea47-4ade-9e50-e51965d4d0d7"
      },
      "source": [
        "#To fit our training data\n",
        "history = model.fit(X_train, y_train, validation_split = 0.1, epochs = 10, batch_size = 200, verbose = 1, shuffle = 1)\n",
        "#verbose is to display progress bar of info\n",
        "#Depenging upon epochs, validation loss and training loss are changed\n",
        "#Higher epoch like more than 30 gives more validation loss, meaning training set is perfectly fir but validation error is not\n",
        "#Lower epoch like 2, makes them very far away"
      ],
      "execution_count": 14,
      "outputs": [
        {
          "output_type": "stream",
          "text": [
            "W0718 21:12:42.874351 140337676744576 deprecation.py:323] From /usr/local/lib/python3.6/dist-packages/tensorflow/python/ops/math_grad.py:1250: add_dispatch_support.<locals>.wrapper (from tensorflow.python.ops.array_ops) is deprecated and will be removed in a future version.\n",
            "Instructions for updating:\n",
            "Use tf.where in 2.0, which has the same broadcast rule as np.where\n",
            "W0718 21:12:42.940242 140337676744576 deprecation_wrapper.py:119] From /usr/local/lib/python3.6/dist-packages/keras/backend/tensorflow_backend.py:986: The name tf.assign_add is deprecated. Please use tf.compat.v1.assign_add instead.\n",
            "\n"
          ],
          "name": "stderr"
        },
        {
          "output_type": "stream",
          "text": [
            "Train on 54000 samples, validate on 6000 samples\n",
            "Epoch 1/10\n",
            "54000/54000 [==============================] - 2s 33us/step - loss: 0.6146 - acc: 0.8103 - val_loss: 0.3186 - val_acc: 0.9037\n",
            "Epoch 2/10\n",
            "54000/54000 [==============================] - 1s 20us/step - loss: 0.3549 - acc: 0.8972 - val_loss: 0.2825 - val_acc: 0.9198\n",
            "Epoch 3/10\n",
            "54000/54000 [==============================] - 1s 20us/step - loss: 0.3122 - acc: 0.9088 - val_loss: 0.2581 - val_acc: 0.9222\n",
            "Epoch 4/10\n",
            "54000/54000 [==============================] - 1s 19us/step - loss: 0.2930 - acc: 0.9131 - val_loss: 0.2508 - val_acc: 0.9252\n",
            "Epoch 5/10\n",
            "54000/54000 [==============================] - 1s 19us/step - loss: 0.2808 - acc: 0.9167 - val_loss: 0.2349 - val_acc: 0.9290\n",
            "Epoch 6/10\n",
            "54000/54000 [==============================] - 1s 20us/step - loss: 0.2615 - acc: 0.9217 - val_loss: 0.2253 - val_acc: 0.9345\n",
            "Epoch 7/10\n",
            "54000/54000 [==============================] - 1s 19us/step - loss: 0.2565 - acc: 0.9220 - val_loss: 0.2349 - val_acc: 0.9308\n",
            "Epoch 8/10\n",
            "54000/54000 [==============================] - 1s 18us/step - loss: 0.2509 - acc: 0.9254 - val_loss: 0.2265 - val_acc: 0.9328\n",
            "Epoch 9/10\n",
            "54000/54000 [==============================] - 1s 18us/step - loss: 0.2398 - acc: 0.9282 - val_loss: 0.2169 - val_acc: 0.9338\n",
            "Epoch 10/10\n",
            "54000/54000 [==============================] - 1s 18us/step - loss: 0.2375 - acc: 0.9289 - val_loss: 0.2157 - val_acc: 0.9390\n"
          ],
          "name": "stdout"
        }
      ]
    },
    {
      "cell_type": "code",
      "metadata": {
        "id": "bFX5IG5Y7Yzv",
        "colab_type": "code",
        "colab": {
          "base_uri": "https://localhost:8080/",
          "height": 312
        },
        "outputId": "ac5a2569-abdf-4484-f1a5-d27769629510"
      },
      "source": [
        "plt.plot(history.history[\"loss\"])\n",
        "plt.plot(history.history[\"val_loss\"])\n",
        "plt.legend([\"loss\", \"val_loss\"])\n",
        "plt.title(\"Loss\")\n",
        "plt.xlabel(\"epoch\")"
      ],
      "execution_count": 15,
      "outputs": [
        {
          "output_type": "execute_result",
          "data": {
            "text/plain": [
              "Text(0.5, 0, 'epoch')"
            ]
          },
          "metadata": {
            "tags": []
          },
          "execution_count": 15
        },
        {
          "output_type": "display_data",
          "data": {
            "image/png": "[encoded data removed]",
            "text/plain": [
              "<Figure size 432x288 with 1 Axes>"
            ]
          },
          "metadata": {
            "tags": []
          }
        }
      ]
    },
    {
      "cell_type": "code",
      "metadata": {
        "id": "cro2h7ss7Yzx",
        "colab_type": "code",
        "colab": {
          "base_uri": "https://localhost:8080/",
          "height": 312
        },
        "outputId": "00df2516-ad75-4203-b52d-a03763e10ad2"
      },
      "source": [
        "#Plotting the accuracy\n",
        "\n",
        "plt.plot(history.history[\"acc\"])\n",
        "plt.plot(history.history[\"val_acc\"])\n",
        "plt.legend([\"acc\", \"val_acc\"])\n",
        "plt.title(\"Acc\")\n",
        "plt.xlabel(\"epoch\")"
      ],
      "execution_count": 16,
      "outputs": [
        {
          "output_type": "execute_result",
          "data": {
            "text/plain": [
              "Text(0.5, 0, 'epoch')"
            ]
          },
          "metadata": {
            "tags": []
          },
          "execution_count": 16
        },
        {
          "output_type": "display_data",
          "data": {
            "image/png": "[encoded data removed]",
            "text/plain": [
              "<Figure size 432x288 with 1 Axes>"
            ]
          },
          "metadata": {
            "tags": []
          }
        }
      ]
    },
    {
      "cell_type": "code",
      "metadata": {
        "id": "oTaUXhYB7Yzy",
        "colab_type": "code",
        "colab": {
          "base_uri": "https://localhost:8080/",
          "height": 68
        },
        "outputId": "a57ede55-afbc-4e72-d583-19bef62c59af"
      },
      "source": [
        "#To test on new unlabelled data\n",
        "score = model.evaluate(X_test, y_test, verbose = 0)\n",
        "print(type(score))\n",
        "print('Test score:', score[0])\n",
        "print('Test accuracy:', score[1])"
      ],
      "execution_count": 17,
      "outputs": [
        {
          "output_type": "stream",
          "text": [
            "<class 'list'>\n",
            "Test score: 0.25884242834597826\n",
            "Test accuracy: 0.9256\n"
          ],
          "name": "stdout"
        }
      ]
    },
    {
      "cell_type": "code",
      "metadata": {
        "id": "ZY5S_01P7Yz0",
        "colab_type": "code",
        "colab": {
          "base_uri": "https://localhost:8080/",
          "height": 286
        },
        "outputId": "52e03c5a-2372-4d18-c4d2-ad4ff165bc81"
      },
      "source": [
        "import requests\n",
        "from PIL import Image\n",
        "url = 'https://www.researchgate.net/profile/Jose_Sempere/publication/221258631/figure/fig1/AS:305526891139075@1449854695342/Handwritten-digit-2.png'\n",
        "response = requests.get(url, stream = True)\n",
        "img = Image.open(response.raw)\n",
        "plt.imshow(img)\n",
        "\n",
        "\n"
      ],
      "execution_count": 23,
      "outputs": [
        {
          "output_type": "execute_result",
          "data": {
            "text/plain": [
              "<matplotlib.image.AxesImage at 0x7fa29ea604e0>"
            ]
          },
          "metadata": {
            "tags": []
          },
          "execution_count": 23
        },
        {
          "output_type": "display_data",
          "data": {
            "image/png": "[encoded data removed]",
            "text/plain": [
              "<Figure size 432x288 with 1 Axes>"
            ]
          },
          "metadata": {
            "tags": []
          }
        }
      ]
    },
    {
      "cell_type": "code",
      "metadata": {
        "id": "_7iDsKZ17Yz1",
        "colab_type": "code",
        "colab": {
          "base_uri": "https://localhost:8080/",
          "height": 286
        },
        "outputId": "c9835d35-6bec-4d4b-d7a7-5295f68dde18"
      },
      "source": [
        "import cv2\n",
        "img_array = np.asarray(img) #converts input data as array\n",
        "resized = cv2.resize(img_array, (28,28))\n",
        "gray_scale = cv2.cvtColor(resized, cv2.COLOR_BGR2GRAY)\n",
        "image = cv2.bitwise_not(gray_scale)\n",
        "plt.imshow(image, cmap = plt.get_cmap(\"gray\"))"
      ],
      "execution_count": 24,
      "outputs": [
        {
          "output_type": "execute_result",
          "data": {
            "text/plain": [
              "<matplotlib.image.AxesImage at 0x7fa29ea3de48>"
            ]
          },
          "metadata": {
            "tags": []
          },
          "execution_count": 24
        },
        {
          "output_type": "display_data",
          "data": {
            "image/png": "[encoded data removed]",
            "text/plain": [
              "<Figure size 432x288 with 1 Axes>"
            ]
          },
          "metadata": {
            "tags": []
          }
        }
      ]
    },
    {
      "cell_type": "code",
      "metadata": {
        "id": "muqcCAOo7Yz3",
        "colab_type": "code",
        "colab": {}
      },
      "source": [
        "image = image/255\n",
        "image = image.reshape(1, 784)"
      ],
      "execution_count": 0,
      "outputs": []
    },
    {
      "cell_type": "code",
      "metadata": {
        "id": "4MLfrA8d7Yz6",
        "colab_type": "code",
        "colab": {
          "base_uri": "https://localhost:8080/",
          "height": 34
        },
        "outputId": "d89102f8-d2cd-4fc3-c3cf-4a20d548951c"
      },
      "source": [
        "prediction = model.predict_classes(image)\n",
        "print(\"Predicted digit:\", str(prediction))"
      ],
      "execution_count": 26,
      "outputs": [
        {
          "output_type": "stream",
          "text": [
            "Predicted digit: [6]\n"
          ],
          "name": "stdout"
        }
      ]
    }
  ]
}